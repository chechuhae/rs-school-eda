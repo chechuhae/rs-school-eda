{
 "cells": [
  {
   "cell_type": "code",
   "execution_count": 1,
   "id": "b489cb9e",
   "metadata": {
    "ExecuteTime": {
     "end_time": "2022-03-07T13:39:46.019092Z",
     "start_time": "2022-03-07T13:39:41.431021Z"
    }
   },
   "outputs": [],
   "source": [
    "import pandas as pd\n",
    "pd.plotting.register_matplotlib_converters()\n",
    "import matplotlib.pyplot as plt\n",
    "%matplotlib inline\n",
    "import seaborn as sns\n",
    "import numpy as np\n"
   ]
  },
  {
   "cell_type": "markdown",
   "id": "d07912a0",
   "metadata": {},
   "source": [
    "# Context"
   ]
  },
  {
   "cell_type": "code",
   "execution_count": 2,
   "id": "6b981d68",
   "metadata": {
    "ExecuteTime": {
     "end_time": "2022-03-07T13:39:46.487907Z",
     "start_time": "2022-03-07T13:39:46.024042Z"
    }
   },
   "outputs": [],
   "source": [
    "df = pd.read_csv('train.csv', index_col=0)"
   ]
  },
  {
   "cell_type": "code",
   "execution_count": 3,
   "id": "95592e6c",
   "metadata": {
    "ExecuteTime": {
     "end_time": "2022-03-07T13:39:46.519821Z",
     "start_time": "2022-03-07T13:39:46.493893Z"
    }
   },
   "outputs": [
    {
     "data": {
      "text/plain": [
       "(100000, 11)"
      ]
     },
     "execution_count": 3,
     "metadata": {},
     "output_type": "execute_result"
    }
   ],
   "source": [
    "df.shape"
   ]
  },
  {
   "cell_type": "code",
   "execution_count": 4,
   "id": "54ae9915",
   "metadata": {
    "ExecuteTime": {
     "end_time": "2022-03-07T13:39:46.582654Z",
     "start_time": "2022-03-07T13:39:46.527802Z"
    },
    "scrolled": true
   },
   "outputs": [
    {
     "data": {
      "text/html": [
       "<div>\n",
       "<style scoped>\n",
       "    .dataframe tbody tr th:only-of-type {\n",
       "        vertical-align: middle;\n",
       "    }\n",
       "\n",
       "    .dataframe tbody tr th {\n",
       "        vertical-align: top;\n",
       "    }\n",
       "\n",
       "    .dataframe thead th {\n",
       "        text-align: right;\n",
       "    }\n",
       "</style>\n",
       "<table border=\"1\" class=\"dataframe\">\n",
       "  <thead>\n",
       "    <tr style=\"text-align: right;\">\n",
       "      <th></th>\n",
       "      <th>Survived</th>\n",
       "      <th>Pclass</th>\n",
       "      <th>Name</th>\n",
       "      <th>Sex</th>\n",
       "      <th>Age</th>\n",
       "      <th>SibSp</th>\n",
       "      <th>Parch</th>\n",
       "      <th>Ticket</th>\n",
       "      <th>Fare</th>\n",
       "      <th>Cabin</th>\n",
       "      <th>Embarked</th>\n",
       "    </tr>\n",
       "    <tr>\n",
       "      <th>PassengerId</th>\n",
       "      <th></th>\n",
       "      <th></th>\n",
       "      <th></th>\n",
       "      <th></th>\n",
       "      <th></th>\n",
       "      <th></th>\n",
       "      <th></th>\n",
       "      <th></th>\n",
       "      <th></th>\n",
       "      <th></th>\n",
       "      <th></th>\n",
       "    </tr>\n",
       "  </thead>\n",
       "  <tbody>\n",
       "    <tr>\n",
       "      <th>0</th>\n",
       "      <td>1</td>\n",
       "      <td>1</td>\n",
       "      <td>Oconnor, Frankie</td>\n",
       "      <td>male</td>\n",
       "      <td>NaN</td>\n",
       "      <td>2</td>\n",
       "      <td>0</td>\n",
       "      <td>209245</td>\n",
       "      <td>27.14</td>\n",
       "      <td>C12239</td>\n",
       "      <td>S</td>\n",
       "    </tr>\n",
       "    <tr>\n",
       "      <th>1</th>\n",
       "      <td>0</td>\n",
       "      <td>3</td>\n",
       "      <td>Bryan, Drew</td>\n",
       "      <td>male</td>\n",
       "      <td>NaN</td>\n",
       "      <td>0</td>\n",
       "      <td>0</td>\n",
       "      <td>27323</td>\n",
       "      <td>13.35</td>\n",
       "      <td>NaN</td>\n",
       "      <td>S</td>\n",
       "    </tr>\n",
       "    <tr>\n",
       "      <th>2</th>\n",
       "      <td>0</td>\n",
       "      <td>3</td>\n",
       "      <td>Owens, Kenneth</td>\n",
       "      <td>male</td>\n",
       "      <td>0.33</td>\n",
       "      <td>1</td>\n",
       "      <td>2</td>\n",
       "      <td>CA 457703</td>\n",
       "      <td>71.29</td>\n",
       "      <td>NaN</td>\n",
       "      <td>S</td>\n",
       "    </tr>\n",
       "    <tr>\n",
       "      <th>3</th>\n",
       "      <td>0</td>\n",
       "      <td>3</td>\n",
       "      <td>Kramer, James</td>\n",
       "      <td>male</td>\n",
       "      <td>19.00</td>\n",
       "      <td>0</td>\n",
       "      <td>0</td>\n",
       "      <td>A. 10866</td>\n",
       "      <td>13.04</td>\n",
       "      <td>NaN</td>\n",
       "      <td>S</td>\n",
       "    </tr>\n",
       "    <tr>\n",
       "      <th>4</th>\n",
       "      <td>1</td>\n",
       "      <td>3</td>\n",
       "      <td>Bond, Michael</td>\n",
       "      <td>male</td>\n",
       "      <td>25.00</td>\n",
       "      <td>0</td>\n",
       "      <td>0</td>\n",
       "      <td>427635</td>\n",
       "      <td>7.76</td>\n",
       "      <td>NaN</td>\n",
       "      <td>S</td>\n",
       "    </tr>\n",
       "  </tbody>\n",
       "</table>\n",
       "</div>"
      ],
      "text/plain": [
       "             Survived  Pclass              Name   Sex    Age  SibSp  Parch  \\\n",
       "PassengerId                                                                  \n",
       "0                   1       1  Oconnor, Frankie  male    NaN      2      0   \n",
       "1                   0       3       Bryan, Drew  male    NaN      0      0   \n",
       "2                   0       3    Owens, Kenneth  male   0.33      1      2   \n",
       "3                   0       3     Kramer, James  male  19.00      0      0   \n",
       "4                   1       3     Bond, Michael  male  25.00      0      0   \n",
       "\n",
       "                Ticket   Fare   Cabin Embarked  \n",
       "PassengerId                                     \n",
       "0               209245  27.14  C12239        S  \n",
       "1                27323  13.35     NaN        S  \n",
       "2            CA 457703  71.29     NaN        S  \n",
       "3             A. 10866  13.04     NaN        S  \n",
       "4               427635   7.76     NaN        S  "
      ]
     },
     "execution_count": 4,
     "metadata": {},
     "output_type": "execute_result"
    }
   ],
   "source": [
    "df.head(5)"
   ]
  },
  {
   "attachments": {
    "image.png": {
     "image/png": "[encoded data removed]"
    }
   },
   "cell_type": "markdown",
   "id": "56e3decf",
   "metadata": {},
   "source": [
    "Описание каждой переменной дано на каггле:\n",
    "\n",
    "\n",
    "![image.png](attachment:image.png)\n",
    "\n",
    "Variable Notes\n",
    "pclass - класс пассажира: A proxy for socio-economic status (SES)\n",
    "1st = Upper\n",
    "2nd = Middle\n",
    "3rd = Lower\n",
    "\n",
    "age - возраст пассажира  Age is fractional if less than 1. If the age is estimated, is it in the form of xx.5\n",
    "\n",
    "sibsp - путешествует с родственниками: The dataset defines family relations in this way...\n",
    "Sibling = brother, sister, stepbrother, stepsister\n",
    "Spouse = husband, wife (mistresses and fiancés were ignored)\n",
    "\n",
    "parch - наличие у пассажира детей/родителей: The dataset defines family relations in this way...\n",
    "Parent = mother, father\n",
    "Child = daughter, son, stepdaughter, stepson\n",
    "Some children travelled only with a nanny, therefore parch=0 for them."
   ]
  },
  {
   "cell_type": "code",
   "execution_count": 5,
   "id": "5d244386",
   "metadata": {
    "ExecuteTime": {
     "end_time": "2022-03-07T13:39:46.675409Z",
     "start_time": "2022-03-07T13:39:46.587640Z"
    },
    "scrolled": true
   },
   "outputs": [
    {
     "name": "stdout",
     "output_type": "stream",
     "text": [
      "<class 'pandas.core.frame.DataFrame'>\n",
      "Int64Index: 100000 entries, 0 to 99999\n",
      "Data columns (total 11 columns):\n",
      " #   Column    Non-Null Count   Dtype  \n",
      "---  ------    --------------   -----  \n",
      " 0   Survived  100000 non-null  int64  \n",
      " 1   Pclass    100000 non-null  int64  \n",
      " 2   Name      100000 non-null  object \n",
      " 3   Sex       100000 non-null  object \n",
      " 4   Age       96708 non-null   float64\n",
      " 5   SibSp     100000 non-null  int64  \n",
      " 6   Parch     100000 non-null  int64  \n",
      " 7   Ticket    95377 non-null   object \n",
      " 8   Fare      99866 non-null   float64\n",
      " 9   Cabin     32134 non-null   object \n",
      " 10  Embarked  99750 non-null   object \n",
      "dtypes: float64(2), int64(4), object(5)\n",
      "memory usage: 9.2+ MB\n"
     ]
    }
   ],
   "source": [
    "# оценим датасет\n",
    "df.info()\n"
   ]
  },
  {
   "cell_type": "code",
   "execution_count": 6,
   "id": "a8d434b0",
   "metadata": {
    "ExecuteTime": {
     "end_time": "2022-03-07T13:39:46.768155Z",
     "start_time": "2022-03-07T13:39:46.679396Z"
    }
   },
   "outputs": [
    {
     "data": {
      "text/plain": [
       "Survived        0\n",
       "Pclass          0\n",
       "Name            0\n",
       "Sex             0\n",
       "Age          3292\n",
       "SibSp           0\n",
       "Parch           0\n",
       "Ticket       4623\n",
       "Fare          134\n",
       "Cabin       67866\n",
       "Embarked      250\n",
       "dtype: int64"
      ]
     },
     "execution_count": 6,
     "metadata": {},
     "output_type": "execute_result"
    }
   ],
   "source": [
    "df.isnull().sum()"
   ]
  },
  {
   "cell_type": "code",
   "execution_count": 7,
   "id": "def984d9",
   "metadata": {
    "ExecuteTime": {
     "end_time": "2022-03-07T13:39:47.021478Z",
     "start_time": "2022-03-07T13:39:46.770151Z"
    }
   },
   "outputs": [
    {
     "data": {
      "text/html": [
       "<div>\n",
       "<style scoped>\n",
       "    .dataframe tbody tr th:only-of-type {\n",
       "        vertical-align: middle;\n",
       "    }\n",
       "\n",
       "    .dataframe tbody tr th {\n",
       "        vertical-align: top;\n",
       "    }\n",
       "\n",
       "    .dataframe thead th {\n",
       "        text-align: right;\n",
       "    }\n",
       "</style>\n",
       "<table border=\"1\" class=\"dataframe\">\n",
       "  <thead>\n",
       "    <tr style=\"text-align: right;\">\n",
       "      <th></th>\n",
       "      <th>Survived</th>\n",
       "      <th>Pclass</th>\n",
       "      <th>Name</th>\n",
       "      <th>Sex</th>\n",
       "      <th>Age</th>\n",
       "      <th>SibSp</th>\n",
       "      <th>Parch</th>\n",
       "      <th>Ticket</th>\n",
       "      <th>Fare</th>\n",
       "      <th>Cabin</th>\n",
       "      <th>Embarked</th>\n",
       "    </tr>\n",
       "    <tr>\n",
       "      <th>PassengerId</th>\n",
       "      <th></th>\n",
       "      <th></th>\n",
       "      <th></th>\n",
       "      <th></th>\n",
       "      <th></th>\n",
       "      <th></th>\n",
       "      <th></th>\n",
       "      <th></th>\n",
       "      <th></th>\n",
       "      <th></th>\n",
       "      <th></th>\n",
       "    </tr>\n",
       "  </thead>\n",
       "  <tbody>\n",
       "    <tr>\n",
       "      <th>0</th>\n",
       "      <td>1</td>\n",
       "      <td>1</td>\n",
       "      <td>Oconnor, Frankie</td>\n",
       "      <td>male</td>\n",
       "      <td>NaN</td>\n",
       "      <td>2</td>\n",
       "      <td>0</td>\n",
       "      <td>209245</td>\n",
       "      <td>27.14</td>\n",
       "      <td>C12239</td>\n",
       "      <td>S</td>\n",
       "    </tr>\n",
       "    <tr>\n",
       "      <th>1</th>\n",
       "      <td>0</td>\n",
       "      <td>3</td>\n",
       "      <td>Bryan, Drew</td>\n",
       "      <td>male</td>\n",
       "      <td>NaN</td>\n",
       "      <td>0</td>\n",
       "      <td>0</td>\n",
       "      <td>27323</td>\n",
       "      <td>13.35</td>\n",
       "      <td>NaN</td>\n",
       "      <td>S</td>\n",
       "    </tr>\n",
       "    <tr>\n",
       "      <th>2</th>\n",
       "      <td>0</td>\n",
       "      <td>3</td>\n",
       "      <td>Owens, Kenneth</td>\n",
       "      <td>male</td>\n",
       "      <td>0.33</td>\n",
       "      <td>1</td>\n",
       "      <td>2</td>\n",
       "      <td>CA 457703</td>\n",
       "      <td>71.29</td>\n",
       "      <td>NaN</td>\n",
       "      <td>S</td>\n",
       "    </tr>\n",
       "    <tr>\n",
       "      <th>3</th>\n",
       "      <td>0</td>\n",
       "      <td>3</td>\n",
       "      <td>Kramer, James</td>\n",
       "      <td>male</td>\n",
       "      <td>19.00</td>\n",
       "      <td>0</td>\n",
       "      <td>0</td>\n",
       "      <td>A. 10866</td>\n",
       "      <td>13.04</td>\n",
       "      <td>NaN</td>\n",
       "      <td>S</td>\n",
       "    </tr>\n",
       "    <tr>\n",
       "      <th>4</th>\n",
       "      <td>1</td>\n",
       "      <td>3</td>\n",
       "      <td>Bond, Michael</td>\n",
       "      <td>male</td>\n",
       "      <td>25.00</td>\n",
       "      <td>0</td>\n",
       "      <td>0</td>\n",
       "      <td>427635</td>\n",
       "      <td>7.76</td>\n",
       "      <td>NaN</td>\n",
       "      <td>S</td>\n",
       "    </tr>\n",
       "    <tr>\n",
       "      <th>...</th>\n",
       "      <td>...</td>\n",
       "      <td>...</td>\n",
       "      <td>...</td>\n",
       "      <td>...</td>\n",
       "      <td>...</td>\n",
       "      <td>...</td>\n",
       "      <td>...</td>\n",
       "      <td>...</td>\n",
       "      <td>...</td>\n",
       "      <td>...</td>\n",
       "      <td>...</td>\n",
       "    </tr>\n",
       "    <tr>\n",
       "      <th>99995</th>\n",
       "      <td>1</td>\n",
       "      <td>2</td>\n",
       "      <td>Bell, Adele</td>\n",
       "      <td>female</td>\n",
       "      <td>62.00</td>\n",
       "      <td>0</td>\n",
       "      <td>0</td>\n",
       "      <td>PC 15008</td>\n",
       "      <td>14.86</td>\n",
       "      <td>D17243</td>\n",
       "      <td>C</td>\n",
       "    </tr>\n",
       "    <tr>\n",
       "      <th>99996</th>\n",
       "      <td>0</td>\n",
       "      <td>2</td>\n",
       "      <td>Brown, Herman</td>\n",
       "      <td>male</td>\n",
       "      <td>66.00</td>\n",
       "      <td>0</td>\n",
       "      <td>0</td>\n",
       "      <td>13273</td>\n",
       "      <td>11.15</td>\n",
       "      <td>NaN</td>\n",
       "      <td>S</td>\n",
       "    </tr>\n",
       "    <tr>\n",
       "      <th>99997</th>\n",
       "      <td>0</td>\n",
       "      <td>3</td>\n",
       "      <td>Childress, Charles</td>\n",
       "      <td>male</td>\n",
       "      <td>37.00</td>\n",
       "      <td>0</td>\n",
       "      <td>0</td>\n",
       "      <td>NaN</td>\n",
       "      <td>9.95</td>\n",
       "      <td>NaN</td>\n",
       "      <td>S</td>\n",
       "    </tr>\n",
       "    <tr>\n",
       "      <th>99998</th>\n",
       "      <td>0</td>\n",
       "      <td>3</td>\n",
       "      <td>Caughlin, Thomas</td>\n",
       "      <td>male</td>\n",
       "      <td>51.00</td>\n",
       "      <td>0</td>\n",
       "      <td>1</td>\n",
       "      <td>458654</td>\n",
       "      <td>30.92</td>\n",
       "      <td>NaN</td>\n",
       "      <td>S</td>\n",
       "    </tr>\n",
       "    <tr>\n",
       "      <th>99999</th>\n",
       "      <td>0</td>\n",
       "      <td>3</td>\n",
       "      <td>Enciso, Tyler</td>\n",
       "      <td>male</td>\n",
       "      <td>55.00</td>\n",
       "      <td>0</td>\n",
       "      <td>0</td>\n",
       "      <td>458074</td>\n",
       "      <td>13.96</td>\n",
       "      <td>NaN</td>\n",
       "      <td>S</td>\n",
       "    </tr>\n",
       "  </tbody>\n",
       "</table>\n",
       "<p>100000 rows × 11 columns</p>\n",
       "</div>"
      ],
      "text/plain": [
       "             Survived  Pclass                Name     Sex    Age  SibSp  \\\n",
       "PassengerId                                                               \n",
       "0                   1       1    Oconnor, Frankie    male    NaN      2   \n",
       "1                   0       3         Bryan, Drew    male    NaN      0   \n",
       "2                   0       3      Owens, Kenneth    male   0.33      1   \n",
       "3                   0       3       Kramer, James    male  19.00      0   \n",
       "4                   1       3       Bond, Michael    male  25.00      0   \n",
       "...               ...     ...                 ...     ...    ...    ...   \n",
       "99995               1       2         Bell, Adele  female  62.00      0   \n",
       "99996               0       2       Brown, Herman    male  66.00      0   \n",
       "99997               0       3  Childress, Charles    male  37.00      0   \n",
       "99998               0       3    Caughlin, Thomas    male  51.00      0   \n",
       "99999               0       3       Enciso, Tyler    male  55.00      0   \n",
       "\n",
       "             Parch     Ticket   Fare   Cabin Embarked  \n",
       "PassengerId                                            \n",
       "0                0     209245  27.14  C12239        S  \n",
       "1                0      27323  13.35     NaN        S  \n",
       "2                2  CA 457703  71.29     NaN        S  \n",
       "3                0   A. 10866  13.04     NaN        S  \n",
       "4                0     427635   7.76     NaN        S  \n",
       "...            ...        ...    ...     ...      ...  \n",
       "99995            0   PC 15008  14.86  D17243        C  \n",
       "99996            0      13273  11.15     NaN        S  \n",
       "99997            0        NaN   9.95     NaN        S  \n",
       "99998            1     458654  30.92     NaN        S  \n",
       "99999            0     458074  13.96     NaN        S  \n",
       "\n",
       "[100000 rows x 11 columns]"
      ]
     },
     "execution_count": 7,
     "metadata": {},
     "output_type": "execute_result"
    }
   ],
   "source": [
    "# Удалим дубликаты\n",
    "df.drop_duplicates(keep='first')"
   ]
  },
  {
   "cell_type": "markdown",
   "id": "859a0e82",
   "metadata": {},
   "source": [
    "Первоначально оценим фичи, которые содержат пропуски и заполним их валидными данными: Age, Ticket, Fare, Cabin, Embarked\n",
    "\n",
    "Cabin содержит очень много пропусков, заполнить данные не представляется возможным, т.к. номер кабины не зависит от других фичей, удалим данную фичу. \n",
    "\n",
    "Embarked - по моему мнению порт посадки никоим образом не повлияет на выживаемость пассажира, следоавтельно также удалим"
   ]
  },
  {
   "cell_type": "code",
   "execution_count": 8,
   "id": "686933a2",
   "metadata": {
    "ExecuteTime": {
     "end_time": "2022-03-07T13:39:47.052400Z",
     "start_time": "2022-03-07T13:39:47.024471Z"
    }
   },
   "outputs": [],
   "source": [
    "df.drop(columns = ['Cabin', 'Embarked'], inplace=True)"
   ]
  },
  {
   "cell_type": "markdown",
   "id": "12089c26",
   "metadata": {},
   "source": [
    "Age оценим на основании класса, пола, наличие родственников\n",
    "\n",
    "Родственники:"
   ]
  },
  {
   "cell_type": "code",
   "execution_count": 9,
   "id": "94844114",
   "metadata": {
    "ExecuteTime": {
     "end_time": "2022-03-07T13:39:47.116225Z",
     "start_time": "2022-03-07T13:39:47.061374Z"
    }
   },
   "outputs": [
    {
     "data": {
      "text/plain": [
       "0    0.534406\n",
       "1    0.465594\n",
       "Name: Survived, dtype: float64"
      ]
     },
     "execution_count": 9,
     "metadata": {},
     "output_type": "execute_result"
    }
   ],
   "source": [
    "df[(df['Parch'] > 0) | (df['SibSp'] > 0)]['Survived'].value_counts() / df[(df['Parch'] > 0) | (df['SibSp'] > 0)]['Survived'].shape[0]"
   ]
  },
  {
   "cell_type": "code",
   "execution_count": 10,
   "id": "0ec107cb",
   "metadata": {
    "ExecuteTime": {
     "end_time": "2022-03-07T13:39:47.178059Z",
     "start_time": "2022-03-07T13:39:47.119219Z"
    }
   },
   "outputs": [
    {
     "data": {
      "text/plain": [
       "0    0.595606\n",
       "1    0.404394\n",
       "Name: Survived, dtype: float64"
      ]
     },
     "execution_count": 10,
     "metadata": {},
     "output_type": "execute_result"
    }
   ],
   "source": [
    "df[(df['Parch'] == 0) & (df['SibSp'] == 0)]['Survived'].value_counts() / df[(df['Parch'] == 0) & (df['SibSp'] == 0)]['Survived'].shape[0]"
   ]
  },
  {
   "cell_type": "markdown",
   "id": "e663d92f",
   "metadata": {},
   "source": [
    "Как мы видим между наличие родственников на корабле и выживаемости слабая корреляция. Следовательно добавим отдельную фичу  переменную 'Relative' 1 - есть, 0 - нет. Также из-за разной интерпретации обозначения ребенок/жена, ребенок/родитель невозможно разгарничить пассажиров без возраста на детей и взрослых"
   ]
  },
  {
   "cell_type": "code",
   "execution_count": 11,
   "id": "a9be4857",
   "metadata": {
    "ExecuteTime": {
     "end_time": "2022-03-07T13:39:47.194027Z",
     "start_time": "2022-03-07T13:39:47.182052Z"
    }
   },
   "outputs": [],
   "source": [
    "df['Relative'] = np.where((df['Parch'] == 0) & (df['SibSp'] == 0), 0, 1)"
   ]
  },
  {
   "cell_type": "code",
   "execution_count": 12,
   "id": "2482c973",
   "metadata": {
    "ExecuteTime": {
     "end_time": "2022-03-07T13:39:47.225932Z",
     "start_time": "2022-03-07T13:39:47.198007Z"
    }
   },
   "outputs": [],
   "source": [
    "df.drop(columns=['SibSp', 'Parch'], inplace=True)"
   ]
  },
  {
   "cell_type": "markdown",
   "id": "f5e9903a",
   "metadata": {},
   "source": [
    "Посмотрим на Пол и Класс"
   ]
  },
  {
   "cell_type": "code",
   "execution_count": 13,
   "id": "1149f020",
   "metadata": {
    "ExecuteTime": {
     "end_time": "2022-03-07T13:39:47.272806Z",
     "start_time": "2022-03-07T13:39:47.230921Z"
    }
   },
   "outputs": [
    {
     "data": {
      "text/plain": [
       "Sex\n",
       "female     71.15 % (31226/43886)\n",
       "male       20.58 % (11548/56114)\n",
       "Name: Survived, dtype: object"
      ]
     },
     "execution_count": 13,
     "metadata": {},
     "output_type": "execute_result"
    }
   ],
   "source": [
    "df.groupby('Sex')['Survived'].apply(lambda x: f'{x.sum()/len(x)*100: 0.2f} % ({x.sum()}/{len(x)})')"
   ]
  },
  {
   "cell_type": "code",
   "execution_count": 14,
   "id": "2744a950",
   "metadata": {
    "ExecuteTime": {
     "end_time": "2022-03-07T13:39:47.335640Z",
     "start_time": "2022-03-07T13:39:47.276796Z"
    }
   },
   "outputs": [],
   "source": [
    "x = list(df.groupby('Sex')['Survived'].apply(lambda x: x.sum()/len(x)*100).index)\n",
    "y = df.groupby('Sex')['Survived'].apply(lambda x: x.sum()/len(x)*100).values"
   ]
  },
  {
   "cell_type": "code",
   "execution_count": 15,
   "id": "5ada8c64",
   "metadata": {
    "ExecuteTime": {
     "end_time": "2022-03-07T13:39:47.667754Z",
     "start_time": "2022-03-07T13:39:47.339632Z"
    }
   },
   "outputs": [
    {
     "name": "stderr",
     "output_type": "stream",
     "text": [
      "C:\\Users\\chechuhae\\anaconda3\\envs\\for_tests\\lib\\site-packages\\seaborn\\_decorators.py:36: FutureWarning: Pass the following variables as keyword args: x, y. From version 0.12, the only valid positional argument will be `data`, and passing other arguments without an explicit keyword will result in an error or misinterpretation.\n",
      "  warnings.warn(\n"
     ]
    },
    {
     "data": {
      "text/plain": [
       "(0.0, 100.0)"
      ]
     },
     "execution_count": 15,
     "metadata": {},
     "output_type": "execute_result"
    },
    {
     "data": {
      "image/png": "[encoded data removed]",
      "text/plain": [
       "<Figure size 432x288 with 1 Axes>"
      ]
     },
     "metadata": {
      "needs_background": "light"
     },
     "output_type": "display_data"
    }
   ],
   "source": [
    "sns.barplot(x, y)\n",
    "plt.title('% Sex survival')\n",
    "plt.ylim([0, 100])"
   ]
  },
  {
   "cell_type": "code",
   "execution_count": 16,
   "id": "d5b494c2",
   "metadata": {
    "ExecuteTime": {
     "end_time": "2022-03-07T13:39:47.699637Z",
     "start_time": "2022-03-07T13:39:47.670713Z"
    }
   },
   "outputs": [
    {
     "data": {
      "text/plain": [
       "Pclass\n",
       "1     57.98 % (17576/30315)\n",
       "2     52.50 % (15057/28679)\n",
       "3     24.73 % (10141/41006)\n",
       "Name: Survived, dtype: object"
      ]
     },
     "execution_count": 16,
     "metadata": {},
     "output_type": "execute_result"
    }
   ],
   "source": [
    "df.groupby('Pclass')['Survived'].apply(lambda x: f'{x.sum()/len(x)*100: 0.2f} % ({x.sum()}/{len(x)})')"
   ]
  },
  {
   "cell_type": "code",
   "execution_count": 17,
   "id": "31caea40",
   "metadata": {
    "ExecuteTime": {
     "end_time": "2022-03-07T13:39:47.747509Z",
     "start_time": "2022-03-07T13:39:47.704623Z"
    }
   },
   "outputs": [],
   "source": [
    "x = list(df.groupby('Pclass')['Survived'].apply(lambda x: x.sum()/len(x)*100).index)\n",
    "y = df.groupby('Pclass')['Survived'].apply(lambda x: x.sum()/len(x)*100).values"
   ]
  },
  {
   "cell_type": "code",
   "execution_count": 18,
   "id": "22098f32",
   "metadata": {
    "ExecuteTime": {
     "end_time": "2022-03-07T13:39:47.951802Z",
     "start_time": "2022-03-07T13:39:47.752499Z"
    }
   },
   "outputs": [
    {
     "name": "stderr",
     "output_type": "stream",
     "text": [
      "C:\\Users\\chechuhae\\anaconda3\\envs\\for_tests\\lib\\site-packages\\seaborn\\_decorators.py:36: FutureWarning: Pass the following variables as keyword args: x, y. From version 0.12, the only valid positional argument will be `data`, and passing other arguments without an explicit keyword will result in an error or misinterpretation.\n",
      "  warnings.warn(\n"
     ]
    },
    {
     "data": {
      "text/plain": [
       "(0.0, 100.0)"
      ]
     },
     "execution_count": 18,
     "metadata": {},
     "output_type": "execute_result"
    },
    {
     "data": {
      "image/png": "[encoded data removed]",
      "text/plain": [
       "<Figure size 432x288 with 1 Axes>"
      ]
     },
     "metadata": {
      "needs_background": "light"
     },
     "output_type": "display_data"
    }
   ],
   "source": [
    "sns.barplot(x, y)\n",
    "plt.title('% Pclass survival')\n",
    "plt.ylim([0, 100])"
   ]
  },
  {
   "cell_type": "markdown",
   "id": "4f179f67",
   "metadata": {
    "ExecuteTime": {
     "end_time": "2022-02-25T13:13:28.520157Z",
     "start_time": "2022-02-25T13:13:28.497181Z"
    }
   },
   "source": [
    "Видим очень сильную корреляцию выживаемости с классом и полом, поэтому\n",
    "\n",
    "Age, заполним значениями медианы, т.к. она меньше подвержена выбросам, в зависимости от класса пассажира и пола, без учета наличия родственников"
   ]
  },
  {
   "cell_type": "code",
   "execution_count": 19,
   "id": "2417ef67",
   "metadata": {
    "ExecuteTime": {
     "end_time": "2022-03-07T13:39:48.171095Z",
     "start_time": "2022-03-07T13:39:47.954795Z"
    }
   },
   "outputs": [],
   "source": [
    "conditions = [(df['Age'].isnull() == True) & (df['Sex'] == 'male') & (df['Pclass'] == 1), \n",
    "              (df['Age'].isnull() == True) & (df['Sex'] == 'male') & (df['Pclass'] == 2), \n",
    "              (df['Age'].isnull() == True) & (df['Sex'] == 'male') & (df['Pclass'] == 3), \n",
    "              (df['Age'].isnull() == True) & (df['Sex'] == 'female') & (df['Pclass'] == 1),\n",
    "              (df['Age'].isnull() == True) & (df['Sex'] == 'female') & (df['Pclass'] == 2),\n",
    "              (df['Age'].isnull() == True) & (df['Sex'] == 'female') & (df['Pclass'] == 3)]\n",
    "choselist = [df[(df['Sex'] == 'male') & (df['Pclass'] == 1)]['Age'].median(), \n",
    "             df[(df['Sex'] == 'male') & (df['Pclass'] == 2)]['Age'].median(), \n",
    "             df[(df['Sex'] == 'male') & (df['Pclass'] == 3)]['Age'].median(),\n",
    "             df[(df['Sex'] == 'female') & (df['Pclass'] == 1)]['Age'].median(),\n",
    "             df[(df['Sex'] == 'female') & (df['Pclass'] == 2)]['Age'].median(),\n",
    "             df[(df['Sex'] == 'female') & (df['Pclass'] == 3)]['Age'].median()]"
   ]
  },
  {
   "cell_type": "code",
   "execution_count": 20,
   "id": "f9982a93",
   "metadata": {
    "ExecuteTime": {
     "end_time": "2022-03-07T13:39:48.187059Z",
     "start_time": "2022-03-07T13:39:48.174093Z"
    }
   },
   "outputs": [],
   "source": [
    "df['Age'] = np.select(conditions, choselist, default=df['Age']) "
   ]
  },
  {
   "cell_type": "markdown",
   "id": "1ee4d68f",
   "metadata": {},
   "source": [
    "Далее разобьем людей на возрастные группы и поиграемся с бинами, чтобы оценить группу"
   ]
  },
  {
   "cell_type": "code",
   "execution_count": 21,
   "id": "f918fc76",
   "metadata": {
    "ExecuteTime": {
     "end_time": "2022-03-07T13:39:48.218565Z",
     "start_time": "2022-03-07T13:39:48.190054Z"
    }
   },
   "outputs": [],
   "source": [
    "bins = [-np.inf, 18, 30, 40, 50, 60, np.inf]\n",
    "# задаем метки для категорий будущей переменной\n",
    "group_names = ['0-18', '18-30', '30-40', '40-50', '50-60', '<60']\n",
    "# осуществляем биннинг переменной\n",
    "df['Age_cat'] = pd.cut(df['Age'], bins, labels=group_names)"
   ]
  },
  {
   "cell_type": "code",
   "execution_count": 22,
   "id": "841f0fd5",
   "metadata": {
    "ExecuteTime": {
     "end_time": "2022-03-07T13:39:48.249504Z",
     "start_time": "2022-03-07T13:39:48.221579Z"
    }
   },
   "outputs": [
    {
     "data": {
      "text/plain": [
       "Age_cat\n",
       "0-18      43.13 % (5448/12633)\n",
       "18-30     34.02 % (7934/23325)\n",
       "30-40     37.53 % (6594/17570)\n",
       "40-50     48.03 % (8097/16857)\n",
       "50-60     47.02 % (8438/17944)\n",
       "<60       53.66 % (6263/11671)\n",
       "Name: Survived, dtype: object"
      ]
     },
     "execution_count": 22,
     "metadata": {},
     "output_type": "execute_result"
    }
   ],
   "source": [
    "df.groupby('Age_cat')['Survived'].apply(lambda x: f'{x.sum()/len(x)*100: 0.2f} % ({x.sum()}/{len(x)})')"
   ]
  },
  {
   "cell_type": "code",
   "execution_count": 23,
   "id": "9ee6d416",
   "metadata": {
    "ExecuteTime": {
     "end_time": "2022-03-07T13:39:48.296380Z",
     "start_time": "2022-03-07T13:39:48.252497Z"
    }
   },
   "outputs": [],
   "source": [
    "x = list(df.groupby('Age_cat')['Survived'].apply(lambda x: x.sum()/len(x)*100).index)\n",
    "y = df.groupby('Age_cat')['Survived'].apply(lambda x: x.sum()/len(x)*100).values"
   ]
  },
  {
   "cell_type": "code",
   "execution_count": 24,
   "id": "622c0925",
   "metadata": {
    "ExecuteTime": {
     "end_time": "2022-03-07T13:39:48.567658Z",
     "start_time": "2022-03-07T13:39:48.299372Z"
    }
   },
   "outputs": [
    {
     "name": "stderr",
     "output_type": "stream",
     "text": [
      "C:\\Users\\chechuhae\\anaconda3\\envs\\for_tests\\lib\\site-packages\\seaborn\\_decorators.py:36: FutureWarning: Pass the following variables as keyword args: x, y. From version 0.12, the only valid positional argument will be `data`, and passing other arguments without an explicit keyword will result in an error or misinterpretation.\n",
      "  warnings.warn(\n"
     ]
    },
    {
     "data": {
      "text/plain": [
       "(0.0, 100.0)"
      ]
     },
     "execution_count": 24,
     "metadata": {},
     "output_type": "execute_result"
    },
    {
     "data": {
      "image/png": "[encoded data removed]",
      "text/plain": [
       "<Figure size 432x288 with 1 Axes>"
      ]
     },
     "metadata": {
      "needs_background": "light"
     },
     "output_type": "display_data"
    }
   ],
   "source": [
    "sns.barplot(x, y)\n",
    "plt.title('% Age_cat survival')\n",
    "plt.ylim([0, 100])"
   ]
  },
  {
   "cell_type": "markdown",
   "id": "ab355e67",
   "metadata": {
    "ExecuteTime": {
     "end_time": "2022-02-25T14:18:57.242225Z",
     "start_time": "2022-02-25T14:18:57.142496Z"
    }
   },
   "source": [
    "Корреляция между возрастом и выживаемостью высокая, оставим бины на данном уровне."
   ]
  },
  {
   "cell_type": "markdown",
   "id": "3eadc118",
   "metadata": {},
   "source": [
    "Ticket - это номер билета, у каждого он был свой, поэтому данную фичу удалю, т.к. она не несет в себе смысловой нагрузки, никакую зависимость выживаемости не имеет, ниже количество уникальных значений."
   ]
  },
  {
   "cell_type": "code",
   "execution_count": 25,
   "id": "d1b3a950",
   "metadata": {
    "ExecuteTime": {
     "end_time": "2022-03-07T13:39:48.615525Z",
     "start_time": "2022-03-07T13:39:48.570645Z"
    }
   },
   "outputs": [
    {
     "data": {
      "text/plain": [
       "75332"
      ]
     },
     "execution_count": 25,
     "metadata": {},
     "output_type": "execute_result"
    }
   ],
   "source": [
    "df.Ticket.unique().shape[0]"
   ]
  },
  {
   "cell_type": "code",
   "execution_count": 26,
   "id": "4b9b1cd3",
   "metadata": {
    "ExecuteTime": {
     "end_time": "2022-03-07T13:39:48.646444Z",
     "start_time": "2022-03-07T13:39:48.619515Z"
    }
   },
   "outputs": [],
   "source": [
    "df.drop(columns = 'Ticket', inplace=True)"
   ]
  },
  {
   "cell_type": "code",
   "execution_count": 27,
   "id": "b08bec95",
   "metadata": {
    "ExecuteTime": {
     "end_time": "2022-03-07T13:39:48.693317Z",
     "start_time": "2022-03-07T13:39:48.666389Z"
    }
   },
   "outputs": [],
   "source": [
    "# также дропнем имена\n",
    "df = df.drop(columns = ['Name'])"
   ]
  },
  {
   "cell_type": "markdown",
   "id": "1ee945bb",
   "metadata": {},
   "source": [
    "Fare посмотрим на выбросы, далее скорректируем их медианным значением по каждому классу. Т.к. 2 класс не может стоить дороже первого, то все запредельные суммы тарифа по первому классу оставим неизменными. Далее заполним пропуски и разобьем наши тарифы на группы и оценим выживших"
   ]
  },
  {
   "cell_type": "code",
   "execution_count": 28,
   "id": "aeab5eca",
   "metadata": {
    "ExecuteTime": {
     "end_time": "2022-03-07T13:39:48.974614Z",
     "start_time": "2022-03-07T13:39:48.702294Z"
    },
    "scrolled": false
   },
   "outputs": [
    {
     "name": "stderr",
     "output_type": "stream",
     "text": [
      "C:\\Users\\chechuhae\\anaconda3\\envs\\for_tests\\lib\\site-packages\\seaborn\\_decorators.py:36: FutureWarning: Pass the following variable as a keyword arg: x. From version 0.12, the only valid positional argument will be `data`, and passing other arguments without an explicit keyword will result in an error or misinterpretation.\n",
      "  warnings.warn(\n"
     ]
    },
    {
     "data": {
      "text/plain": [
       "<AxesSubplot:xlabel='Fare'>"
      ]
     },
     "execution_count": 28,
     "metadata": {},
     "output_type": "execute_result"
    },
    {
     "data": {
      "image/png": "[encoded data removed]",
      "text/plain": [
       "<Figure size 432x288 with 1 Axes>"
      ]
     },
     "metadata": {
      "needs_background": "light"
     },
     "output_type": "display_data"
    }
   ],
   "source": [
    "sns.boxplot(df.Fare)"
   ]
  },
  {
   "cell_type": "code",
   "execution_count": 29,
   "id": "1d90535c",
   "metadata": {
    "ExecuteTime": {
     "end_time": "2022-03-07T13:39:49.038445Z",
     "start_time": "2022-03-07T13:39:48.977610Z"
    }
   },
   "outputs": [
    {
     "data": {
      "text/html": [
       "<div>\n",
       "<style scoped>\n",
       "    .dataframe tbody tr th:only-of-type {\n",
       "        vertical-align: middle;\n",
       "    }\n",
       "\n",
       "    .dataframe tbody tr th {\n",
       "        vertical-align: top;\n",
       "    }\n",
       "\n",
       "    .dataframe thead th {\n",
       "        text-align: right;\n",
       "    }\n",
       "</style>\n",
       "<table border=\"1\" class=\"dataframe\">\n",
       "  <thead>\n",
       "    <tr style=\"text-align: right;\">\n",
       "      <th></th>\n",
       "      <th>Survived</th>\n",
       "      <th>Pclass</th>\n",
       "      <th>Sex</th>\n",
       "      <th>Age</th>\n",
       "      <th>Fare</th>\n",
       "      <th>Relative</th>\n",
       "      <th>Age_cat</th>\n",
       "    </tr>\n",
       "    <tr>\n",
       "      <th>PassengerId</th>\n",
       "      <th></th>\n",
       "      <th></th>\n",
       "      <th></th>\n",
       "      <th></th>\n",
       "      <th></th>\n",
       "      <th></th>\n",
       "      <th></th>\n",
       "    </tr>\n",
       "  </thead>\n",
       "  <tbody>\n",
       "    <tr>\n",
       "      <th>2</th>\n",
       "      <td>0</td>\n",
       "      <td>3</td>\n",
       "      <td>male</td>\n",
       "      <td>0.33</td>\n",
       "      <td>71.29</td>\n",
       "      <td>1</td>\n",
       "      <td>0-18</td>\n",
       "    </tr>\n",
       "    <tr>\n",
       "      <th>34</th>\n",
       "      <td>1</td>\n",
       "      <td>2</td>\n",
       "      <td>female</td>\n",
       "      <td>40.00</td>\n",
       "      <td>33.66</td>\n",
       "      <td>0</td>\n",
       "      <td>30-40</td>\n",
       "    </tr>\n",
       "    <tr>\n",
       "      <th>43</th>\n",
       "      <td>0</td>\n",
       "      <td>2</td>\n",
       "      <td>male</td>\n",
       "      <td>23.00</td>\n",
       "      <td>35.18</td>\n",
       "      <td>1</td>\n",
       "      <td>18-30</td>\n",
       "    </tr>\n",
       "    <tr>\n",
       "      <th>51</th>\n",
       "      <td>0</td>\n",
       "      <td>2</td>\n",
       "      <td>female</td>\n",
       "      <td>47.00</td>\n",
       "      <td>72.45</td>\n",
       "      <td>1</td>\n",
       "      <td>40-50</td>\n",
       "    </tr>\n",
       "    <tr>\n",
       "      <th>55</th>\n",
       "      <td>0</td>\n",
       "      <td>3</td>\n",
       "      <td>male</td>\n",
       "      <td>3.00</td>\n",
       "      <td>80.84</td>\n",
       "      <td>1</td>\n",
       "      <td>0-18</td>\n",
       "    </tr>\n",
       "    <tr>\n",
       "      <th>...</th>\n",
       "      <td>...</td>\n",
       "      <td>...</td>\n",
       "      <td>...</td>\n",
       "      <td>...</td>\n",
       "      <td>...</td>\n",
       "      <td>...</td>\n",
       "      <td>...</td>\n",
       "    </tr>\n",
       "    <tr>\n",
       "      <th>99926</th>\n",
       "      <td>1</td>\n",
       "      <td>3</td>\n",
       "      <td>female</td>\n",
       "      <td>8.00</td>\n",
       "      <td>73.69</td>\n",
       "      <td>1</td>\n",
       "      <td>0-18</td>\n",
       "    </tr>\n",
       "    <tr>\n",
       "      <th>99935</th>\n",
       "      <td>1</td>\n",
       "      <td>2</td>\n",
       "      <td>male</td>\n",
       "      <td>30.00</td>\n",
       "      <td>75.60</td>\n",
       "      <td>0</td>\n",
       "      <td>18-30</td>\n",
       "    </tr>\n",
       "    <tr>\n",
       "      <th>99938</th>\n",
       "      <td>0</td>\n",
       "      <td>2</td>\n",
       "      <td>female</td>\n",
       "      <td>28.00</td>\n",
       "      <td>36.94</td>\n",
       "      <td>0</td>\n",
       "      <td>18-30</td>\n",
       "    </tr>\n",
       "    <tr>\n",
       "      <th>99977</th>\n",
       "      <td>0</td>\n",
       "      <td>3</td>\n",
       "      <td>male</td>\n",
       "      <td>52.00</td>\n",
       "      <td>77.25</td>\n",
       "      <td>1</td>\n",
       "      <td>50-60</td>\n",
       "    </tr>\n",
       "    <tr>\n",
       "      <th>99987</th>\n",
       "      <td>0</td>\n",
       "      <td>3</td>\n",
       "      <td>male</td>\n",
       "      <td>24.00</td>\n",
       "      <td>64.55</td>\n",
       "      <td>1</td>\n",
       "      <td>18-30</td>\n",
       "    </tr>\n",
       "  </tbody>\n",
       "</table>\n",
       "<p>7152 rows × 7 columns</p>\n",
       "</div>"
      ],
      "text/plain": [
       "             Survived  Pclass     Sex    Age   Fare  Relative Age_cat\n",
       "PassengerId                                                          \n",
       "2                   0       3    male   0.33  71.29         1    0-18\n",
       "34                  1       2  female  40.00  33.66         0   30-40\n",
       "43                  0       2    male  23.00  35.18         1   18-30\n",
       "51                  0       2  female  47.00  72.45         1   40-50\n",
       "55                  0       3    male   3.00  80.84         1    0-18\n",
       "...               ...     ...     ...    ...    ...       ...     ...\n",
       "99926               1       3  female   8.00  73.69         1    0-18\n",
       "99935               1       2    male  30.00  75.60         0   18-30\n",
       "99938               0       2  female  28.00  36.94         0   18-30\n",
       "99977               0       3    male  52.00  77.25         1   50-60\n",
       "99987               0       3    male  24.00  64.55         1   18-30\n",
       "\n",
       "[7152 rows x 7 columns]"
      ]
     },
     "execution_count": 29,
     "metadata": {},
     "output_type": "execute_result"
    }
   ],
   "source": [
    "df[(df['Fare'] >= df['Fare'].quantile([0.75]).values[0]) & (df['Pclass'] != 1)]"
   ]
  },
  {
   "cell_type": "code",
   "execution_count": 30,
   "id": "01384658",
   "metadata": {
    "ExecuteTime": {
     "end_time": "2022-03-07T13:39:49.118243Z",
     "start_time": "2022-03-07T13:39:49.042438Z"
    }
   },
   "outputs": [],
   "source": [
    "conditions = [(df['Fare'] >= df['Fare'].quantile([0.75]).values[0]) & (df['Pclass'] == 3), \n",
    "              (df['Fare'] >= df['Fare'].quantile([0.75]).values[0]) & (df['Pclass'] == 2),\n",
    "              (df['Fare'].isnull() == True) & (df['Pclass'] == 3), \n",
    "              (df['Fare'].isnull() == True) & (df['Pclass'] == 2)]\n",
    "choselist = [df[(df['Fare'] >= df['Fare'].quantile([0.75]).values[0]) & (df['Pclass'] == 3)]['Fare'].median(), \n",
    "             df[(df['Fare'] >= df['Fare'].quantile([0.75]).values[0]) & (df['Pclass'] == 2)]['Fare'].median(), \n",
    "             df[df['Pclass'] == 3]['Fare'].median(), \n",
    "             df[df['Pclass'] == 2]['Fare'].median()] "
   ]
  },
  {
   "cell_type": "code",
   "execution_count": 31,
   "id": "ec92193f",
   "metadata": {
    "ExecuteTime": {
     "end_time": "2022-03-07T13:39:49.134190Z",
     "start_time": "2022-03-07T13:39:49.121224Z"
    }
   },
   "outputs": [],
   "source": [
    "df['Fare'] = np.select(conditions, choselist, default=df['Fare']) "
   ]
  },
  {
   "cell_type": "code",
   "execution_count": 32,
   "id": "586e3c80",
   "metadata": {
    "ExecuteTime": {
     "end_time": "2022-03-07T13:39:49.183066Z",
     "start_time": "2022-03-07T13:39:49.139176Z"
    }
   },
   "outputs": [],
   "source": [
    "bins = [-np.inf, 30, 50, 70, 100, np.inf]\n",
    "# задаем метки для категорий будущей переменной\n",
    "group_names = ['0-30', '30-50', '50-70', '70-100', '<100']\n",
    "# осуществляем биннинг переменной\n",
    "df['Fare_cat'] = pd.cut(df['Fare'], bins, labels=group_names)"
   ]
  },
  {
   "cell_type": "markdown",
   "id": "2bbc6df5",
   "metadata": {},
   "source": [
    "Сравнив два варианта корректировки столбца тариф получили вывод, что необходимо только заполнить пропуски, а выбросы оставить как есть. Т.к. "
   ]
  },
  {
   "attachments": {
    "image-2.png": {
     "image/png": "[encoded data removed]"
    }
   },
   "cell_type": "markdown",
   "id": "b7115b65",
   "metadata": {},
   "source": [
    "с корректировкой выбросов\n",
    "\n",
    "df.groupby('Fare_cat')['Survived'].apply(lambda x: f'{x.sum()/len(x)*100: 0.2f} % ({x.sum()}/{len(x)})')\n",
    "\n",
    "![image-2.png](attachment:image-2.png)"
   ]
  },
  {
   "cell_type": "code",
   "execution_count": 33,
   "id": "389239d1",
   "metadata": {
    "ExecuteTime": {
     "end_time": "2022-03-07T13:39:49.226942Z",
     "start_time": "2022-03-07T13:39:49.188048Z"
    }
   },
   "outputs": [
    {
     "data": {
      "text/plain": [
       "Fare_cat\n",
       "0-30       35.33 % (23686/67040)\n",
       "30-50        59.67 % (5443/9122)\n",
       "50-70       44.59 % (4574/10257)\n",
       "70-100       57.95 % (2810/4849)\n",
       "<100         71.76 % (6237/8692)\n",
       "Name: Survived, dtype: object"
      ]
     },
     "execution_count": 33,
     "metadata": {},
     "output_type": "execute_result"
    }
   ],
   "source": [
    "# без корректировкой выбросов\n",
    "df.groupby('Fare_cat')['Survived'].apply(lambda x: f'{x.sum()/len(x)*100: 0.2f} % ({x.sum()}/{len(x)})')"
   ]
  },
  {
   "cell_type": "code",
   "execution_count": 34,
   "id": "166586ae",
   "metadata": {
    "ExecuteTime": {
     "end_time": "2022-03-07T13:39:49.305733Z",
     "start_time": "2022-03-07T13:39:49.233922Z"
    }
   },
   "outputs": [],
   "source": [
    "x = list(df.groupby('Fare_cat')['Survived'].apply(lambda x: x.sum()/len(x)*100).index)\n",
    "y = df.groupby('Fare_cat')['Survived'].apply(lambda x: x.sum()/len(x)*100).values"
   ]
  },
  {
   "cell_type": "code",
   "execution_count": 35,
   "id": "88e14b65",
   "metadata": {
    "ExecuteTime": {
     "end_time": "2022-03-07T13:39:49.555122Z",
     "start_time": "2022-03-07T13:39:49.308725Z"
    }
   },
   "outputs": [
    {
     "name": "stderr",
     "output_type": "stream",
     "text": [
      "C:\\Users\\chechuhae\\anaconda3\\envs\\for_tests\\lib\\site-packages\\seaborn\\_decorators.py:36: FutureWarning: Pass the following variables as keyword args: x, y. From version 0.12, the only valid positional argument will be `data`, and passing other arguments without an explicit keyword will result in an error or misinterpretation.\n",
      "  warnings.warn(\n"
     ]
    },
    {
     "data": {
      "text/plain": [
       "(0.0, 100.0)"
      ]
     },
     "execution_count": 35,
     "metadata": {},
     "output_type": "execute_result"
    },
    {
     "data": {
      "image/png": "[encoded data removed]",
      "text/plain": [
       "<Figure size 432x288 with 1 Axes>"
      ]
     },
     "metadata": {
      "needs_background": "light"
     },
     "output_type": "display_data"
    }
   ],
   "source": [
    "sns.barplot(x, y)\n",
    "plt.title('% Fare_cat survival')\n",
    "plt.ylim([0, 100])"
   ]
  },
  {
   "cell_type": "markdown",
   "id": "9b02271e",
   "metadata": {},
   "source": [
    "Также видим, что тариф аналогично класса влияет на выживаемость пассажира."
   ]
  },
  {
   "cell_type": "markdown",
   "id": "034945c8",
   "metadata": {},
   "source": [
    "# Summary"
   ]
  },
  {
   "cell_type": "markdown",
   "id": "c667303d",
   "metadata": {},
   "source": [
    "Вывод таков, что выживаемость пассажира сильно зависит от возвраста, тарифа/класса, а также пола.\n",
    "Выживаеомсть слабо зависит от нахождения на борту \"родтсвенников\", номера билета/каюты. порта посадки."
   ]
  }
 ],
 "metadata": {
  "kernelspec": {
   "display_name": "Python 3 (ipykernel)",
   "language": "python",
   "name": "python3"
  },
  "language_info": {
   "codemirror_mode": {
    "name": "ipython",
    "version": 3
   },
   "file_extension": ".py",
   "mimetype": "text/x-python",
   "name": "python",
   "nbconvert_exporter": "python",
   "pygments_lexer": "ipython3",
   "version": "3.8.10"
  },
  "toc": {
   "base_numbering": 1,
   "nav_menu": {},
   "number_sections": true,
   "sideBar": true,
   "skip_h1_title": false,
   "title_cell": "Table of Contents",
   "title_sidebar": "Contents",
   "toc_cell": false,
   "toc_position": {},
   "toc_section_display": true,
   "toc_window_display": false
  },
  "varInspector": {
   "cols": {
    "lenName": 16,
    "lenType": 16,
    "lenVar": 40
   },
   "kernels_config": {
    "python": {
     "delete_cmd_postfix": "",
     "delete_cmd_prefix": "del ",
     "library": "var_list.py",
     "varRefreshCmd": "print(var_dic_list())"
    },
    "r": {
     "delete_cmd_postfix": ") ",
     "delete_cmd_prefix": "rm(",
     "library": "var_list.r",
     "varRefreshCmd": "cat(var_dic_list()) "
    }
   },
   "types_to_exclude": [
    "module",
    "function",
    "builtin_function_or_method",
    "instance",
    "_Feature"
   ],
   "window_display": false
  }
 },
 "nbformat": 4,
 "nbformat_minor": 5
}
